{
 "cells": [
  {
   "cell_type": "code",
   "execution_count": null,
   "metadata": {},
   "outputs": [],
   "source": [
    "from plywood_gallery import ChapterConfig\n",
    "#ChapterConfig.clean_all(skip_warning=True)\n",
    "ChapterConfig.generate_json()\n",
    "# ChapterConfig.reset_counter()\n",
    "ChapterConfig.set_chapter_name(\"Chapter 1\")"
   ]
  },
  {
   "cell_type": "code",
   "execution_count": null,
   "metadata": {},
   "outputs": [],
   "source": [
    "%%capture_png -p Foo.png --celltype Header --style \"width:240px\"\n",
    "import matplotlib.pyplot as plt\n",
    "plt.plot([1,2], [10,20], c = \"orange\")"
   ]
  },
  {
   "cell_type": "code",
   "execution_count": null,
   "metadata": {},
   "outputs": [],
   "source": [
    "ChapterConfig.set_chapter_name(\"Chapter 2\")"
   ]
  },
  {
   "cell_type": "code",
   "execution_count": null,
   "metadata": {},
   "outputs": [],
   "source": [
    "%%capture_png -p Bar.png --celltype Normal --style \"width:240px\"\n",
    "import matplotlib.pyplot as plt\n",
    "plt.plot([1,2], [10,20], c= \"b\")"
   ]
  },
  {
   "cell_type": "code",
   "execution_count": null,
   "metadata": {},
   "outputs": [],
   "source": [
    "%%capture_png -p HelloWorld.png --celltype Normal --style \"width:240px\"\n",
    "import matplotlib.pyplot as plt\n",
    "plt.plot([1,2], [10,-20], c= \"b\")"
   ]
  },
  {
   "cell_type": "code",
   "execution_count": null,
   "metadata": {},
   "outputs": [],
   "source": [
    "ChapterConfig.sort([\"Chapter 2\", \"Chapter 1\"])"
   ]
  },
  {
   "cell_type": "code",
   "execution_count": null,
   "metadata": {},
   "outputs": [],
   "source": [
    "ChapterConfig.clean(\"Chapter 1\")"
   ]
  }
 ],
 "metadata": {
  "kernelspec": {
   "display_name": "Python 3.9.15 ('plywood_gallery_env': venv)",
   "language": "python",
   "name": "python3"
  },
  "language_info": {
   "codemirror_mode": {
    "name": "ipython",
    "version": 3
   },
   "file_extension": ".py",
   "mimetype": "text/x-python",
   "name": "python",
   "nbconvert_exporter": "python",
   "pygments_lexer": "ipython3",
   "version": "3.9.15"
  },
  "vscode": {
   "interpreter": {
    "hash": "2952ffede85d5ee814e7d7d53bb189c2d6659c3837bb58400800b4ce3939b697"
   }
  }
 },
 "nbformat": 4,
 "nbformat_minor": 4
}
